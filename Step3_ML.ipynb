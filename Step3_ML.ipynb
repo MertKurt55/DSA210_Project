{
  "nbformat": 4,
  "nbformat_minor": 0,
  "metadata": {
    "colab": {
      "provenance": []
    },
    "kernelspec": {
      "name": "python3",
      "display_name": "Python 3"
    },
    "language_info": {
      "name": "python"
    }
  },
  "cells": [
    {
      "cell_type": "markdown",
      "source": [
        "# Step 3\n",
        "\n",
        "**Objectives**\n",
        "\n",
        "1. **Regression** – predict the numeric `score` column (IMDb or equivalent).\n",
        "2. **Classification** – predict a binary flag `HighRated` (`score > 7.5`).\n",
        "\n",
        "\n",
        "| Task | Algorithm |\n",
        "|------|-----------|\n",
        "| Regression | **Random Forest Regressor** |\n",
        "| Classification | **k-Nearest Neighbors Classifier** |\n",
        "\n"
      ],
      "metadata": {
        "id": "KjRRwvyGOPjy"
      }
    },
    {
      "cell_type": "code",
      "execution_count": 1,
      "metadata": {
        "colab": {
          "base_uri": "https://localhost:8080/"
        },
        "id": "tZUKQRkXBh3l",
        "outputId": "6b222ba1-f063-4ee4-fc02-4e1ae7c2d77b"
      },
      "outputs": [
        {
          "output_type": "stream",
          "name": "stdout",
          "text": [
            "Mounted at /content/drive\n"
          ]
        }
      ],
      "source": [
        "import pandas as pd\n",
        "from google.colab import drive\n",
        "import matplotlib.pyplot as plt\n",
        "import seaborn as sns\n",
        "drive.mount('/content/drive')\n",
        "file_path = '/content/drive/My Drive/merged.csv'\n",
        "df = pd.read_csv(file_path)\n",
        "\n",
        "\n"
      ]
    },
    {
      "cell_type": "code",
      "source": [
        "df.head()"
      ],
      "metadata": {
        "colab": {
          "base_uri": "https://localhost:8080/",
          "height": 347
        },
        "id": "-N4sgwpaOEzO",
        "outputId": "7cb1f9c4-c4f9-4f4c-f728-47f63640e16b"
      },
      "execution_count": 2,
      "outputs": [
        {
          "output_type": "execute_result",
          "data": {
            "text/plain": [
              "                         title  year  score_netflix  votes_netflix  \\\n",
              "0                    inception  2010            8.8        2268288   \n",
              "1                 forrest gump  1994            8.8        1994599   \n",
              "2          saving private ryan  1998            8.6        1346020   \n",
              "3             django unchained  2012            8.4        1472668   \n",
              "4  once upon a time in america  1984            8.3         342335   \n",
              "\n",
              "   runtime_netflix genre_netflix country_netflix  score_movies  votes_movies  \\\n",
              "0              148         scifi              GB           8.8     2100000.0   \n",
              "1              142         drama              US           8.8     1900000.0   \n",
              "2              169         drama              US           8.6     1300000.0   \n",
              "3              165       western              US           8.4     1400000.0   \n",
              "4              229         drama              US           8.4      321000.0   \n",
              "\n",
              "   runtime_movies genre_movies country_movies       budget        gross  \n",
              "0           148.0       Action  United States  160000000.0  836836967.0  \n",
              "1           142.0        Drama  United States   55000000.0  678226133.0  \n",
              "2           169.0        Drama  United States   70000000.0  482349603.0  \n",
              "3           165.0        Drama  United States  100000000.0  426074373.0  \n",
              "4           229.0        Crime          Italy   30000000.0    5473212.0  "
            ],
            "text/html": [
              "\n",
              "  <div id=\"df-ebbc0fa9-0b98-447b-bf8e-0237ea17b2cb\" class=\"colab-df-container\">\n",
              "    <div>\n",
              "<style scoped>\n",
              "    .dataframe tbody tr th:only-of-type {\n",
              "        vertical-align: middle;\n",
              "    }\n",
              "\n",
              "    .dataframe tbody tr th {\n",
              "        vertical-align: top;\n",
              "    }\n",
              "\n",
              "    .dataframe thead th {\n",
              "        text-align: right;\n",
              "    }\n",
              "</style>\n",
              "<table border=\"1\" class=\"dataframe\">\n",
              "  <thead>\n",
              "    <tr style=\"text-align: right;\">\n",
              "      <th></th>\n",
              "      <th>title</th>\n",
              "      <th>year</th>\n",
              "      <th>score_netflix</th>\n",
              "      <th>votes_netflix</th>\n",
              "      <th>runtime_netflix</th>\n",
              "      <th>genre_netflix</th>\n",
              "      <th>country_netflix</th>\n",
              "      <th>score_movies</th>\n",
              "      <th>votes_movies</th>\n",
              "      <th>runtime_movies</th>\n",
              "      <th>genre_movies</th>\n",
              "      <th>country_movies</th>\n",
              "      <th>budget</th>\n",
              "      <th>gross</th>\n",
              "    </tr>\n",
              "  </thead>\n",
              "  <tbody>\n",
              "    <tr>\n",
              "      <th>0</th>\n",
              "      <td>inception</td>\n",
              "      <td>2010</td>\n",
              "      <td>8.8</td>\n",
              "      <td>2268288</td>\n",
              "      <td>148</td>\n",
              "      <td>scifi</td>\n",
              "      <td>GB</td>\n",
              "      <td>8.8</td>\n",
              "      <td>2100000.0</td>\n",
              "      <td>148.0</td>\n",
              "      <td>Action</td>\n",
              "      <td>United States</td>\n",
              "      <td>160000000.0</td>\n",
              "      <td>836836967.0</td>\n",
              "    </tr>\n",
              "    <tr>\n",
              "      <th>1</th>\n",
              "      <td>forrest gump</td>\n",
              "      <td>1994</td>\n",
              "      <td>8.8</td>\n",
              "      <td>1994599</td>\n",
              "      <td>142</td>\n",
              "      <td>drama</td>\n",
              "      <td>US</td>\n",
              "      <td>8.8</td>\n",
              "      <td>1900000.0</td>\n",
              "      <td>142.0</td>\n",
              "      <td>Drama</td>\n",
              "      <td>United States</td>\n",
              "      <td>55000000.0</td>\n",
              "      <td>678226133.0</td>\n",
              "    </tr>\n",
              "    <tr>\n",
              "      <th>2</th>\n",
              "      <td>saving private ryan</td>\n",
              "      <td>1998</td>\n",
              "      <td>8.6</td>\n",
              "      <td>1346020</td>\n",
              "      <td>169</td>\n",
              "      <td>drama</td>\n",
              "      <td>US</td>\n",
              "      <td>8.6</td>\n",
              "      <td>1300000.0</td>\n",
              "      <td>169.0</td>\n",
              "      <td>Drama</td>\n",
              "      <td>United States</td>\n",
              "      <td>70000000.0</td>\n",
              "      <td>482349603.0</td>\n",
              "    </tr>\n",
              "    <tr>\n",
              "      <th>3</th>\n",
              "      <td>django unchained</td>\n",
              "      <td>2012</td>\n",
              "      <td>8.4</td>\n",
              "      <td>1472668</td>\n",
              "      <td>165</td>\n",
              "      <td>western</td>\n",
              "      <td>US</td>\n",
              "      <td>8.4</td>\n",
              "      <td>1400000.0</td>\n",
              "      <td>165.0</td>\n",
              "      <td>Drama</td>\n",
              "      <td>United States</td>\n",
              "      <td>100000000.0</td>\n",
              "      <td>426074373.0</td>\n",
              "    </tr>\n",
              "    <tr>\n",
              "      <th>4</th>\n",
              "      <td>once upon a time in america</td>\n",
              "      <td>1984</td>\n",
              "      <td>8.3</td>\n",
              "      <td>342335</td>\n",
              "      <td>229</td>\n",
              "      <td>drama</td>\n",
              "      <td>US</td>\n",
              "      <td>8.4</td>\n",
              "      <td>321000.0</td>\n",
              "      <td>229.0</td>\n",
              "      <td>Crime</td>\n",
              "      <td>Italy</td>\n",
              "      <td>30000000.0</td>\n",
              "      <td>5473212.0</td>\n",
              "    </tr>\n",
              "  </tbody>\n",
              "</table>\n",
              "</div>\n",
              "    <div class=\"colab-df-buttons\">\n",
              "\n",
              "  <div class=\"colab-df-container\">\n",
              "    <button class=\"colab-df-convert\" onclick=\"convertToInteractive('df-ebbc0fa9-0b98-447b-bf8e-0237ea17b2cb')\"\n",
              "            title=\"Convert this dataframe to an interactive table.\"\n",
              "            style=\"display:none;\">\n",
              "\n",
              "  <svg xmlns=\"http://www.w3.org/2000/svg\" height=\"24px\" viewBox=\"0 -960 960 960\">\n",
              "    <path d=\"M120-120v-720h720v720H120Zm60-500h600v-160H180v160Zm220 220h160v-160H400v160Zm0 220h160v-160H400v160ZM180-400h160v-160H180v160Zm440 0h160v-160H620v160ZM180-180h160v-160H180v160Zm440 0h160v-160H620v160Z\"/>\n",
              "  </svg>\n",
              "    </button>\n",
              "\n",
              "  <style>\n",
              "    .colab-df-container {\n",
              "      display:flex;\n",
              "      gap: 12px;\n",
              "    }\n",
              "\n",
              "    .colab-df-convert {\n",
              "      background-color: #E8F0FE;\n",
              "      border: none;\n",
              "      border-radius: 50%;\n",
              "      cursor: pointer;\n",
              "      display: none;\n",
              "      fill: #1967D2;\n",
              "      height: 32px;\n",
              "      padding: 0 0 0 0;\n",
              "      width: 32px;\n",
              "    }\n",
              "\n",
              "    .colab-df-convert:hover {\n",
              "      background-color: #E2EBFA;\n",
              "      box-shadow: 0px 1px 2px rgba(60, 64, 67, 0.3), 0px 1px 3px 1px rgba(60, 64, 67, 0.15);\n",
              "      fill: #174EA6;\n",
              "    }\n",
              "\n",
              "    .colab-df-buttons div {\n",
              "      margin-bottom: 4px;\n",
              "    }\n",
              "\n",
              "    [theme=dark] .colab-df-convert {\n",
              "      background-color: #3B4455;\n",
              "      fill: #D2E3FC;\n",
              "    }\n",
              "\n",
              "    [theme=dark] .colab-df-convert:hover {\n",
              "      background-color: #434B5C;\n",
              "      box-shadow: 0px 1px 3px 1px rgba(0, 0, 0, 0.15);\n",
              "      filter: drop-shadow(0px 1px 2px rgba(0, 0, 0, 0.3));\n",
              "      fill: #FFFFFF;\n",
              "    }\n",
              "  </style>\n",
              "\n",
              "    <script>\n",
              "      const buttonEl =\n",
              "        document.querySelector('#df-ebbc0fa9-0b98-447b-bf8e-0237ea17b2cb button.colab-df-convert');\n",
              "      buttonEl.style.display =\n",
              "        google.colab.kernel.accessAllowed ? 'block' : 'none';\n",
              "\n",
              "      async function convertToInteractive(key) {\n",
              "        const element = document.querySelector('#df-ebbc0fa9-0b98-447b-bf8e-0237ea17b2cb');\n",
              "        const dataTable =\n",
              "          await google.colab.kernel.invokeFunction('convertToInteractive',\n",
              "                                                    [key], {});\n",
              "        if (!dataTable) return;\n",
              "\n",
              "        const docLinkHtml = 'Like what you see? Visit the ' +\n",
              "          '<a target=\"_blank\" href=https://colab.research.google.com/notebooks/data_table.ipynb>data table notebook</a>'\n",
              "          + ' to learn more about interactive tables.';\n",
              "        element.innerHTML = '';\n",
              "        dataTable['output_type'] = 'display_data';\n",
              "        await google.colab.output.renderOutput(dataTable, element);\n",
              "        const docLink = document.createElement('div');\n",
              "        docLink.innerHTML = docLinkHtml;\n",
              "        element.appendChild(docLink);\n",
              "      }\n",
              "    </script>\n",
              "  </div>\n",
              "\n",
              "\n",
              "    <div id=\"df-49914855-02db-40d5-b9b7-d44f73fa3e52\">\n",
              "      <button class=\"colab-df-quickchart\" onclick=\"quickchart('df-49914855-02db-40d5-b9b7-d44f73fa3e52')\"\n",
              "                title=\"Suggest charts\"\n",
              "                style=\"display:none;\">\n",
              "\n",
              "<svg xmlns=\"http://www.w3.org/2000/svg\" height=\"24px\"viewBox=\"0 0 24 24\"\n",
              "     width=\"24px\">\n",
              "    <g>\n",
              "        <path d=\"M19 3H5c-1.1 0-2 .9-2 2v14c0 1.1.9 2 2 2h14c1.1 0 2-.9 2-2V5c0-1.1-.9-2-2-2zM9 17H7v-7h2v7zm4 0h-2V7h2v10zm4 0h-2v-4h2v4z\"/>\n",
              "    </g>\n",
              "</svg>\n",
              "      </button>\n",
              "\n",
              "<style>\n",
              "  .colab-df-quickchart {\n",
              "      --bg-color: #E8F0FE;\n",
              "      --fill-color: #1967D2;\n",
              "      --hover-bg-color: #E2EBFA;\n",
              "      --hover-fill-color: #174EA6;\n",
              "      --disabled-fill-color: #AAA;\n",
              "      --disabled-bg-color: #DDD;\n",
              "  }\n",
              "\n",
              "  [theme=dark] .colab-df-quickchart {\n",
              "      --bg-color: #3B4455;\n",
              "      --fill-color: #D2E3FC;\n",
              "      --hover-bg-color: #434B5C;\n",
              "      --hover-fill-color: #FFFFFF;\n",
              "      --disabled-bg-color: #3B4455;\n",
              "      --disabled-fill-color: #666;\n",
              "  }\n",
              "\n",
              "  .colab-df-quickchart {\n",
              "    background-color: var(--bg-color);\n",
              "    border: none;\n",
              "    border-radius: 50%;\n",
              "    cursor: pointer;\n",
              "    display: none;\n",
              "    fill: var(--fill-color);\n",
              "    height: 32px;\n",
              "    padding: 0;\n",
              "    width: 32px;\n",
              "  }\n",
              "\n",
              "  .colab-df-quickchart:hover {\n",
              "    background-color: var(--hover-bg-color);\n",
              "    box-shadow: 0 1px 2px rgba(60, 64, 67, 0.3), 0 1px 3px 1px rgba(60, 64, 67, 0.15);\n",
              "    fill: var(--button-hover-fill-color);\n",
              "  }\n",
              "\n",
              "  .colab-df-quickchart-complete:disabled,\n",
              "  .colab-df-quickchart-complete:disabled:hover {\n",
              "    background-color: var(--disabled-bg-color);\n",
              "    fill: var(--disabled-fill-color);\n",
              "    box-shadow: none;\n",
              "  }\n",
              "\n",
              "  .colab-df-spinner {\n",
              "    border: 2px solid var(--fill-color);\n",
              "    border-color: transparent;\n",
              "    border-bottom-color: var(--fill-color);\n",
              "    animation:\n",
              "      spin 1s steps(1) infinite;\n",
              "  }\n",
              "\n",
              "  @keyframes spin {\n",
              "    0% {\n",
              "      border-color: transparent;\n",
              "      border-bottom-color: var(--fill-color);\n",
              "      border-left-color: var(--fill-color);\n",
              "    }\n",
              "    20% {\n",
              "      border-color: transparent;\n",
              "      border-left-color: var(--fill-color);\n",
              "      border-top-color: var(--fill-color);\n",
              "    }\n",
              "    30% {\n",
              "      border-color: transparent;\n",
              "      border-left-color: var(--fill-color);\n",
              "      border-top-color: var(--fill-color);\n",
              "      border-right-color: var(--fill-color);\n",
              "    }\n",
              "    40% {\n",
              "      border-color: transparent;\n",
              "      border-right-color: var(--fill-color);\n",
              "      border-top-color: var(--fill-color);\n",
              "    }\n",
              "    60% {\n",
              "      border-color: transparent;\n",
              "      border-right-color: var(--fill-color);\n",
              "    }\n",
              "    80% {\n",
              "      border-color: transparent;\n",
              "      border-right-color: var(--fill-color);\n",
              "      border-bottom-color: var(--fill-color);\n",
              "    }\n",
              "    90% {\n",
              "      border-color: transparent;\n",
              "      border-bottom-color: var(--fill-color);\n",
              "    }\n",
              "  }\n",
              "</style>\n",
              "\n",
              "      <script>\n",
              "        async function quickchart(key) {\n",
              "          const quickchartButtonEl =\n",
              "            document.querySelector('#' + key + ' button');\n",
              "          quickchartButtonEl.disabled = true;  // To prevent multiple clicks.\n",
              "          quickchartButtonEl.classList.add('colab-df-spinner');\n",
              "          try {\n",
              "            const charts = await google.colab.kernel.invokeFunction(\n",
              "                'suggestCharts', [key], {});\n",
              "          } catch (error) {\n",
              "            console.error('Error during call to suggestCharts:', error);\n",
              "          }\n",
              "          quickchartButtonEl.classList.remove('colab-df-spinner');\n",
              "          quickchartButtonEl.classList.add('colab-df-quickchart-complete');\n",
              "        }\n",
              "        (() => {\n",
              "          let quickchartButtonEl =\n",
              "            document.querySelector('#df-49914855-02db-40d5-b9b7-d44f73fa3e52 button');\n",
              "          quickchartButtonEl.style.display =\n",
              "            google.colab.kernel.accessAllowed ? 'block' : 'none';\n",
              "        })();\n",
              "      </script>\n",
              "    </div>\n",
              "\n",
              "    </div>\n",
              "  </div>\n"
            ],
            "application/vnd.google.colaboratory.intrinsic+json": {
              "type": "dataframe",
              "variable_name": "df",
              "summary": "{\n  \"name\": \"df\",\n  \"rows\": 121,\n  \"fields\": [\n    {\n      \"column\": \"title\",\n      \"properties\": {\n        \"dtype\": \"string\",\n        \"num_unique_values\": 121,\n        \"samples\": [\n          \"i am sam\",\n          \"les mis\\u00e9rables\",\n          \"once upon a time in america\"\n        ],\n        \"semantic_type\": \"\",\n        \"description\": \"\"\n      }\n    },\n    {\n      \"column\": \"year\",\n      \"properties\": {\n        \"dtype\": \"number\",\n        \"std\": 9,\n        \"min\": 1980,\n        \"max\": 2019,\n        \"num_unique_values\": 35,\n        \"samples\": [\n          1999,\n          2003,\n          1993\n        ],\n        \"semantic_type\": \"\",\n        \"description\": \"\"\n      }\n    },\n    {\n      \"column\": \"score_netflix\",\n      \"properties\": {\n        \"dtype\": \"number\",\n        \"std\": 0.4321035739525763,\n        \"min\": 6.9,\n        \"max\": 8.8,\n        \"num_unique_values\": 18,\n        \"samples\": [\n          8.8,\n          8.6,\n          7.8\n        ],\n        \"semantic_type\": \"\",\n        \"description\": \"\"\n      }\n    },\n    {\n      \"column\": \"votes_netflix\",\n      \"properties\": {\n        \"dtype\": \"number\",\n        \"std\": 335314,\n        \"min\": 11329,\n        \"max\": 2268288,\n        \"num_unique_values\": 121,\n        \"samples\": [\n          149082,\n          325132,\n          342335\n        ],\n        \"semantic_type\": \"\",\n        \"description\": \"\"\n      }\n    },\n    {\n      \"column\": \"runtime_netflix\",\n      \"properties\": {\n        \"dtype\": \"number\",\n        \"std\": 24,\n        \"min\": 77,\n        \"max\": 229,\n        \"num_unique_values\": 66,\n        \"samples\": [\n          134,\n          112,\n          148\n        ],\n        \"semantic_type\": \"\",\n        \"description\": \"\"\n      }\n    },\n    {\n      \"column\": \"genre_netflix\",\n      \"properties\": {\n        \"dtype\": \"category\",\n        \"num_unique_values\": 12,\n        \"samples\": [\n          \"action\",\n          \"comedy\",\n          \"scifi\"\n        ],\n        \"semantic_type\": \"\",\n        \"description\": \"\"\n      }\n    },\n    {\n      \"column\": \"country_netflix\",\n      \"properties\": {\n        \"dtype\": \"category\",\n        \"num_unique_values\": 12,\n        \"samples\": [\n          \"HK\",\n          \"JP\",\n          \"GB\"\n        ],\n        \"semantic_type\": \"\",\n        \"description\": \"\"\n      }\n    },\n    {\n      \"column\": \"score_movies\",\n      \"properties\": {\n        \"dtype\": \"number\",\n        \"std\": 0.42899234872163855,\n        \"min\": 6.9,\n        \"max\": 8.8,\n        \"num_unique_values\": 18,\n        \"samples\": [\n          8.8,\n          8.6,\n          7.8\n        ],\n        \"semantic_type\": \"\",\n        \"description\": \"\"\n      }\n    },\n    {\n      \"column\": \"votes_movies\",\n      \"properties\": {\n        \"dtype\": \"number\",\n        \"std\": 317184.04964604106,\n        \"min\": 10000.0,\n        \"max\": 2100000.0,\n        \"num_unique_values\": 111,\n        \"samples\": [\n          98000.0,\n          446000.0,\n          321000.0\n        ],\n        \"semantic_type\": \"\",\n        \"description\": \"\"\n      }\n    },\n    {\n      \"column\": \"runtime_movies\",\n      \"properties\": {\n        \"dtype\": \"number\",\n        \"std\": 23.6790552683633,\n        \"min\": 77.0,\n        \"max\": 229.0,\n        \"num_unique_values\": 62,\n        \"samples\": [\n          136.0,\n          111.0,\n          148.0\n        ],\n        \"semantic_type\": \"\",\n        \"description\": \"\"\n      }\n    },\n    {\n      \"column\": \"genre_movies\",\n      \"properties\": {\n        \"dtype\": \"category\",\n        \"num_unique_values\": 10,\n        \"samples\": [\n          \"Thriller\",\n          \"Drama\",\n          \"Biography\"\n        ],\n        \"semantic_type\": \"\",\n        \"description\": \"\"\n      }\n    },\n    {\n      \"column\": \"country_movies\",\n      \"properties\": {\n        \"dtype\": \"category\",\n        \"num_unique_values\": 11,\n        \"samples\": [\n          \"Germany\",\n          \"United States\",\n          \"Czech Republic\"\n        ],\n        \"semantic_type\": \"\",\n        \"description\": \"\"\n      }\n    },\n    {\n      \"column\": \"budget\",\n      \"properties\": {\n        \"dtype\": \"number\",\n        \"std\": 40231755.3947059,\n        \"min\": 100000.0,\n        \"max\": 165000000.0,\n        \"num_unique_values\": 63,\n        \"samples\": [\n          52000000.0,\n          13000000.0,\n          160000000.0\n        ],\n        \"semantic_type\": \"\",\n        \"description\": \"\"\n      }\n    },\n    {\n      \"column\": \"gross\",\n      \"properties\": {\n        \"dtype\": \"number\",\n        \"std\": 166727318.80117804,\n        \"min\": 90777.0,\n        \"max\": 836836967.0,\n        \"num_unique_values\": 119,\n        \"samples\": [\n          59284015.0,\n          25405445.0,\n          5473212.0\n        ],\n        \"semantic_type\": \"\",\n        \"description\": \"\"\n      }\n    }\n  ]\n}"
            }
          },
          "metadata": {},
          "execution_count": 2
        }
      ]
    },
    {
      "cell_type": "code",
      "source": [
        "# Basic feature / target setup\n",
        "target_reg = \"score_netflix\"                       # change if your column differs\n",
        "df[\"HighRated\"] = (df[target_reg] > 7.5).astype(int)\n",
        "\n",
        "# Separate feature matrix and targets\n",
        "X = df.drop(columns=[target_reg, \"HighRated\"])\n",
        "y_reg = df[target_reg]\n",
        "y_clf = df[\"HighRated\"]\n",
        "\n",
        "# Identify column types\n",
        "num_cols = X.select_dtypes(include=[\"int64\", \"float64\"]).columns.tolist()\n",
        "cat_cols = X.select_dtypes(include=[\"object\", \"category\", \"bool\"]).columns.tolist()\n",
        "\n",
        "print(\"Numeric:\", num_cols)\n",
        "print(\"Categorical:\", cat_cols)\n"
      ],
      "metadata": {
        "colab": {
          "base_uri": "https://localhost:8080/"
        },
        "id": "4IuPiN94OPBq",
        "outputId": "a92a05fb-2300-4359-cd50-559d725a3507"
      },
      "execution_count": 4,
      "outputs": [
        {
          "output_type": "stream",
          "name": "stdout",
          "text": [
            "Numeric: ['year', 'votes_netflix', 'runtime_netflix', 'score_movies', 'votes_movies', 'runtime_movies', 'budget', 'gross']\n",
            "Categorical: ['title', 'genre_netflix', 'country_netflix', 'genre_movies', 'country_movies']\n"
          ]
        }
      ]
    },
    {
      "cell_type": "markdown",
      "source": [
        "## Pre-processing\n",
        "\n",
        "* **Numeric features** – median imputation + (for KNN) standard scaling.  \n",
        "* **Categorical features** – most-frequent imputation + one-hot encoding.  \n",
        "\n",
        "The same `ColumnTransformer` feeds both models.\n"
      ],
      "metadata": {
        "id": "Oo4fgSfOOyns"
      }
    },
    {
      "cell_type": "code",
      "source": [
        "from sklearn.compose import ColumnTransformer\n",
        "from sklearn.preprocessing import OneHotEncoder, StandardScaler\n",
        "from sklearn.impute import SimpleImputer\n",
        "from sklearn.pipeline import Pipeline\n",
        "\n",
        "preprocess = ColumnTransformer(\n",
        "    transformers=[\n",
        "        (\"num\", Pipeline([\n",
        "            (\"impute\", SimpleImputer(strategy=\"median\")),\n",
        "            (\"scale\", StandardScaler())           # scaling useful for KNN; harmless for RF\n",
        "        ]), num_cols),\n",
        "        (\"cat\", Pipeline([\n",
        "            (\"impute\", SimpleImputer(strategy=\"most_frequent\")),\n",
        "            (\"ohe\", OneHotEncoder(handle_unknown=\"ignore\"))\n",
        "        ]), cat_cols),\n",
        "    ]\n",
        ")\n"
      ],
      "metadata": {
        "id": "JD-PyZUuO1yM"
      },
      "execution_count": 5,
      "outputs": []
    },
    {
      "cell_type": "markdown",
      "source": [
        "### Train/Test Split and Cross-Validation\n",
        "\n",
        "* **Stratified 80 / 20 split** preserves the positive-class ratio in `HighRated`.  \n",
        "* **5-Fold K-Fold** (`shuffle=True, random_state=42`) is used inside `GridSearchCV`  \n",
        "  to select hyper-parameters that generalise across multiple folds.\n"
      ],
      "metadata": {
        "id": "WNo1nTCNQ0GI"
      }
    },
    {
      "cell_type": "code",
      "source": [
        "# Train-test split & CV object\n",
        "from sklearn.model_selection import train_test_split, KFold\n",
        "\n",
        "X_train, X_test, y_train_reg, y_test_reg, y_train_clf, y_test_clf = train_test_split(\n",
        "    X, y_reg, y_clf, test_size=0.2, stratify=y_clf, random_state=42\n",
        ")\n",
        "\n",
        "cv = KFold(n_splits=5, shuffle=True, random_state=42)\n",
        "\n",
        "print(\"Train size:\", X_train.shape[0], \"  Test size:\", X_test.shape[0])\n"
      ],
      "metadata": {
        "colab": {
          "base_uri": "https://localhost:8080/"
        },
        "id": "9DNOYRFVO-aL",
        "outputId": "f69957e5-81dc-4fd9-f7b0-e079fe467265"
      },
      "execution_count": 6,
      "outputs": [
        {
          "output_type": "stream",
          "name": "stdout",
          "text": [
            "Train size: 96   Test size: 25\n"
          ]
        }
      ]
    },
    {
      "cell_type": "markdown",
      "source": [
        "## Model 1 – Random Forest Regressor\n",
        "\n",
        "We tune two key hyper-parameters to balance bias and variance:\n",
        "\n",
        "| Hyper-parameter | Effect |\n",
        "|-----------------|--------|\n",
        "| `n_estimators`  | Number of trees in the ensemble (more trees → lower variance, higher compute). |\n",
        "| `max_depth`     | Maximum depth of each tree (limits overfitting when set). |\n",
        "\n",
        "Cross-validation scoring metric: **negative RMSE** – lower values indicate better generalisation.\n"
      ],
      "metadata": {
        "id": "-DGDC0DcRLWs"
      }
    },
    {
      "cell_type": "code",
      "source": [
        "# Random Forest Regressor\n",
        "from sklearn.ensemble import RandomForestRegressor\n",
        "from sklearn.model_selection import GridSearchCV\n",
        "from sklearn.metrics import mean_squared_error, mean_absolute_error, r2_score\n",
        "import numpy as np\n",
        "\n",
        "rf_pipe = Pipeline([\n",
        "    (\"prep\", preprocess),\n",
        "    (\"model\", RandomForestRegressor(random_state=42))\n",
        "])\n",
        "\n",
        "rf_grid = {\n",
        "    \"model__n_estimators\": [100, 200],\n",
        "    \"model__max_depth\": [None, 10],\n",
        "}\n",
        "\n",
        "gs_rf = GridSearchCV(\n",
        "    rf_pipe, rf_grid, cv=cv,\n",
        "    scoring=\"neg_root_mean_squared_error\",\n",
        "    n_jobs=-1, refit=True\n",
        ")\n",
        "gs_rf.fit(X_train, y_train_reg)\n",
        "\n",
        "best_rf = gs_rf.best_estimator_\n",
        "print(\"RF best params:\", gs_rf.best_params_)\n",
        "print(\"CV RMSE:\", -gs_rf.best_score_)\n"
      ],
      "metadata": {
        "colab": {
          "base_uri": "https://localhost:8080/"
        },
        "id": "iaKdOvPnPBTf",
        "outputId": "f2108a07-2b78-4537-8160-544319cfa98d"
      },
      "execution_count": 9,
      "outputs": [
        {
          "output_type": "stream",
          "name": "stdout",
          "text": [
            "RF best params: {'model__max_depth': None, 'model__n_estimators': 200}\n",
            "CV RMSE: 0.07089005858532502\n"
          ]
        }
      ]
    },
    {
      "cell_type": "code",
      "source": [
        "\n",
        "# Test performance\n",
        "pred_reg = best_rf.predict(X_test)\n",
        "print(\"Test RMSE:\", mean_squared_error(y_test_reg, pred_reg))\n",
        "print(\"Test MAE :\", mean_absolute_error(y_test_reg, pred_reg))\n",
        "print(\"Test R²  :\", r2_score(y_test_reg, pred_reg))\n"
      ],
      "metadata": {
        "colab": {
          "base_uri": "https://localhost:8080/"
        },
        "id": "RTz96eT3P68A",
        "outputId": "31ef982e-5750-47ad-944d-4b06a8eb01eb"
      },
      "execution_count": 10,
      "outputs": [
        {
          "output_type": "stream",
          "name": "stdout",
          "text": [
            "Test RMSE: 0.006036949999999996\n",
            "Test MAE : 0.04934000000000207\n",
            "Test R²  : 0.9699259226048144\n"
          ]
        }
      ]
    },
    {
      "cell_type": "markdown",
      "source": [
        "## Model 2 – k-Nearest Neighbors Classifier\n",
        "\n",
        "Key hyper-parameters:\n",
        "\n",
        "* `n_neighbors` – size of the neighbourhood  \n",
        "* `weights` – uniform vs. distance-weighted voting  \n",
        "* `p` – distance metric (1 = Manhattan, 2 = Euclidean)\n",
        "\n",
        "Scoring metric: **Accuracy** (higher is better).\n"
      ],
      "metadata": {
        "id": "EkfTgzDHRJjG"
      }
    },
    {
      "cell_type": "code",
      "source": [
        "# K-Nearest Neighbors Classifier\n",
        "from sklearn.neighbors import KNeighborsClassifier\n",
        "from sklearn.metrics import accuracy_score, f1_score, roc_auc_score\n",
        "\n",
        "knn_pipe = Pipeline([\n",
        "    (\"prep\", preprocess),\n",
        "    (\"model\", KNeighborsClassifier())\n",
        "])\n",
        "\n",
        "knn_grid = {\n",
        "    \"model__n_neighbors\": [3, 5, 7],\n",
        "    \"model__weights\": [\"uniform\", \"distance\"],\n",
        "    \"model__p\": [1, 2],          # 1=Manhattan, 2=Euclidean\n",
        "}\n",
        "\n",
        "gs_knn = GridSearchCV(\n",
        "    knn_pipe, knn_grid, cv=cv,\n",
        "    scoring=\"accuracy\",\n",
        "    n_jobs=-1, refit=True\n",
        ")\n",
        "gs_knn.fit(X_train, y_train_clf)\n",
        "\n",
        "best_knn = gs_knn.best_estimator_\n",
        "print(\"KNN best params:\", gs_knn.best_params_)\n",
        "print(\"CV Accuracy:\", gs_knn.best_score_)\n",
        "\n"
      ],
      "metadata": {
        "colab": {
          "base_uri": "https://localhost:8080/"
        },
        "id": "_ptNFaNdPECo",
        "outputId": "6c245bc1-955e-4ecc-ca08-108ae9eb72d1"
      },
      "execution_count": 12,
      "outputs": [
        {
          "output_type": "stream",
          "name": "stdout",
          "text": [
            "KNN best params: {'model__n_neighbors': 5, 'model__p': 2, 'model__weights': 'uniform'}\n",
            "CV Accuracy: 0.8342105263157894\n"
          ]
        }
      ]
    },
    {
      "cell_type": "code",
      "source": [
        "\n",
        "# Test performance\n",
        "pred_clf  = best_knn.predict(X_test)\n",
        "proba_clf = best_knn.predict_proba(X_test)[:,1]\n",
        "\n",
        "print(\"Test Accuracy:\", accuracy_score(y_test_clf, pred_clf))\n",
        "print(\"Test F1      :\", f1_score(y_test_clf, pred_clf))\n",
        "print(\"Test AUROC   :\", roc_auc_score(y_test_clf, proba_clf))"
      ],
      "metadata": {
        "colab": {
          "base_uri": "https://localhost:8080/"
        },
        "id": "o3aXTSf7P9d1",
        "outputId": "16493975-494b-40c2-c3b6-9481708ed428"
      },
      "execution_count": 13,
      "outputs": [
        {
          "output_type": "stream",
          "name": "stdout",
          "text": [
            "Test Accuracy: 0.92\n",
            "Test F1      : 0.9\n",
            "Test AUROC   : 0.9766666666666667\n"
          ]
        }
      ]
    },
    {
      "cell_type": "markdown",
      "source": [
        "## Final Results and Interpretation\n",
        "\n",
        "| Task | Best Hyper-parameters | Test Metrics |\n",
        "|------|----------------------|--------------|\n",
        "| **Regression** (Random Forest) | `n_estimators={200}`  `max_depth={None}` | RMSE ≈ **{0.006}**    MAE ≈ **{0.04}**    R² ≈ **{0.97}** |\n",
        "| **Classification** (KNN) | `n_neighbors={5}`  `weights='distance'`  `p={2}` | Accuracy ≈ **{0.92}**    F1 ≈ **{0.9}**    AUROC ≈ **{0.97}** |\n",
        "\n",
        "> Replace the braces with the printed numbers from the previous code cells.\n",
        "\n",
        "### What the numbers mean 🔍\n",
        "* **Regression** – An RMSE of ~{0.006} suggests the model’s IMDb-score predictions deviate by ±{0.006} points on average.  \n",
        "  The R² of {0.97} means roughly **{97\\%}** of the variance in scores is explained by the Random Forest.\n",
        "* **Classification** – The KNN correctly identifies high-rated movies **{92%}** of the time, with a balanced F1 of {0.9}.  \n",
        "  An AUROC near {0.97} indicates strong ranking ability (probability that the model scores a random high-rated movie above a random low-rated one).\n"
      ],
      "metadata": {
        "id": "kG4SKELzR3ah"
      }
    }
  ]
}